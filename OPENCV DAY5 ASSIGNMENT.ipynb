{
 "cells": [
  {
   "cell_type": "code",
   "execution_count": 1,
   "metadata": {},
   "outputs": [],
   "source": [
    "import cv2\n",
    "import numpy as np\n",
    "import os"
   ]
  },
  {
   "cell_type": "code",
   "execution_count": 22,
   "metadata": {},
   "outputs": [],
   "source": [
    "#Smile detection\n",
    "img=cv2.imread('C:/Users/Harshitha/Desktop/opencv workshop/smile.jpg')\n",
    "img_temp=img.copy()\n",
    "img_temp=cv2.cvtColor(img_temp,cv2.COLOR_BGR2RGB)\n",
    "smile=cv2.CascadeClassifier('D:/Anaconda/Lib/site-packages/cv2/data/haarcascade_smile.xml')\n",
    "#print(smile)\n",
    "gray=cv2.cvtColor(img,cv2.COLOR_BGR2GRAY)\n",
    "smile_detect=smile.detectMultiScale(gray,1.3,5)\n",
    "for (x,y,w,h) in smile_detect:\n",
    "    cv2.rectangle(img,(x,y),(x+w,y+h),(255,0,0),2)\n",
    "cv2.imshow('image',img)\n",
    "cv2.waitKey(0)\n",
    "cv2.destroyAllWindows()"
   ]
  },
  {
   "cell_type": "code",
   "execution_count": 48,
   "metadata": {},
   "outputs": [],
   "source": [
    "#Full Body detection\n",
    "img=cv2.imread('C:/Users/Harshitha/Desktop/opencv workshop/person.jpg')\n",
    "img_temp=img.copy()\n",
    "img_temp=cv2.cvtColor(img_temp,cv2.COLOR_BGR2RGB)\n",
    "fullbody=cv2.CascadeClassifier('D:/Anaconda/Lib/site-packages/cv2/data/haarcascade_fullbody.xml')\n",
    "#print(smile)\n",
    "gray=cv2.cvtColor(img,cv2.COLOR_BGR2GRAY)\n",
    "fullbody_detect=fullbody.detectMultiScale(gray,1.01,8)\n",
    "for (x,y,w,h) in fullbody_detect:\n",
    "    cv2.rectangle(img,(x,y),(x+w,y+h),(255,0,0),2)\n",
    "cv2.imshow('image',img)\n",
    "cv2.waitKey(0)\n",
    "cv2.destroyAllWindows()\n"
   ]
  },
  {
   "cell_type": "code",
   "execution_count": null,
   "metadata": {},
   "outputs": [],
   "source": []
  }
 ],
 "metadata": {
  "kernelspec": {
   "display_name": "Python 3",
   "language": "python",
   "name": "python3"
  },
  "language_info": {
   "codemirror_mode": {
    "name": "ipython",
    "version": 3
   },
   "file_extension": ".py",
   "mimetype": "text/x-python",
   "name": "python",
   "nbconvert_exporter": "python",
   "pygments_lexer": "ipython3",
   "version": "3.7.4"
  }
 },
 "nbformat": 4,
 "nbformat_minor": 2
}
