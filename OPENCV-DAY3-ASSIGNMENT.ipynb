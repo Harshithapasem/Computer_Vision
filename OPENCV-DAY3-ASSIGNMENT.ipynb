{
 "cells": [
  {
   "cell_type": "code",
   "execution_count": null,
   "metadata": {},
   "outputs": [],
   "source": [
    "#LIVE SKETCHER\n",
    "import cv2\n",
    "cap = cv2.VideoCapture(0)\n",
    "\n",
    "while True:\n",
    "    ret, frame = cap.read() \n",
    "    cv2.imshow('frame',frame)\n",
    "    gray = cv2.cvtColor(frame, cv2.COLOR_BGR2GRAY)\n",
    "    blur = cv2.GaussianBlur(gray , (5,5), 0)     \n",
    "    edge = cv2.Canny(blur, 70, 110)         \n",
    "    ret, thresh = cv2.threshold(edge, 170, 255, cv2.THRESH_BINARY_INV)\n",
    "    cv2.imshow('thresh',thresh)\n",
    "    if cv2.waitKey(33) == 27:\n",
    "        break;\n",
    "cap.release()\n",
    "cv2.destroyAllWindows()"
   ]
  },
  {
   "cell_type": "code",
   "execution_count": null,
   "metadata": {},
   "outputs": [],
   "source": [
    "import cv2\n",
    "image=cv2.imread('C:/Users/Harshitha/Desktop/opencv workshop/dino.jpg',0)\n",
    "img=cv2.resize(image,(400,400))\n",
    "gaussian = cv2.GaussianBlur(img.copy(), (9,9), 0)\n",
    "edge = cv2.Canny(gaussian,100, 70)\n",
    "\n",
    "cv2.imshow('image',edge)\n",
    "cv2.waitKey(0)\n",
    "cv2.destroyAllWindows()"
   ]
  },
  {
   "cell_type": "code",
   "execution_count": null,
   "metadata": {},
   "outputs": [],
   "source": [
    "import cv2\n",
    "hand_img=cv2.imread('C:/Users/Harshitha/Desktop/opencv workshop/hand.png',0)\n",
    "img_1=cv2.resize(hand_img,(400,400))\n",
    "blurred=cv2.GaussianBlur(img_1,(11,11),0)\n",
    "edged=cv2.Canny(blurred,30,150)\n",
    "#cv2.imshow('canny',edged)\n",
    "_,cnts,hierachy=cv2.findContours(edged.copy(),cv2.RETR_EXTERNAL,cv2.CHAIN_APPROX_SIMPLE)\n",
    "print(\"I found {} curves in the image\".format(len(cnts)))\n",
    "hands=img_1.copy()\n",
    "cv2.drawContours(hands,cnts,-1,(0,255,0),2)\n",
    "cv2.imshow('hands',hands)\n",
    "cv2.waitKey(0)\n",
    "cv2.destroyAllWindows()"
   ]
  },
  {
   "cell_type": "code",
   "execution_count": null,
   "metadata": {},
   "outputs": [],
   "source": []
  }
 ],
 "metadata": {
  "kernelspec": {
   "display_name": "Python 3",
   "language": "python",
   "name": "python3"
  },
  "language_info": {
   "codemirror_mode": {
    "name": "ipython",
    "version": 3
   },
   "file_extension": ".py",
   "mimetype": "text/x-python",
   "name": "python",
   "nbconvert_exporter": "python",
   "pygments_lexer": "ipython3",
   "version": "3.7.4"
  }
 },
 "nbformat": 4,
 "nbformat_minor": 2
}
