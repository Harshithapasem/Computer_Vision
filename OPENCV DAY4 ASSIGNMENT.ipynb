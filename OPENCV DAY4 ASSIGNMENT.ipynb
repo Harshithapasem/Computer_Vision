{
 "cells": [
  {
   "cell_type": "code",
   "execution_count": 1,
   "metadata": {},
   "outputs": [],
   "source": [
    "import cv2"
   ]
  },
  {
   "cell_type": "code",
   "execution_count": 2,
   "metadata": {},
   "outputs": [
    {
     "name": "stdout",
     "output_type": "stream",
     "text": [
      "(400, 400, 3)\n",
      "(400, 400)\n"
     ]
    }
   ],
   "source": [
    "img=cv2.imread('C:/Users/Harshitha/Desktop/opencv workshop/pic.jpg')\n",
    "img1=cv2.resize(img,(400,400))\n",
    "print(img1.shape)\n",
    "cv2.imshow('img',img1)\n",
    "mask_img=cv2.imread('C:/Users/Harshitha/Desktop/opencv workshop/pic_mask.jpg',0)\n",
    "mask_img1=cv2.resize(mask_img,(400,400))\n",
    "print(mask_img1.shape)\n",
    "cv2.imshow('maskimg',mask_img1)\n",
    "cv2.waitKey(0)\n",
    "cv2.destroyAllWindows()"
   ]
  },
  {
   "cell_type": "code",
   "execution_count": 7,
   "metadata": {},
   "outputs": [],
   "source": [
    "for i in range(15):\n",
    "    ns = cv2.inpaint(img1, mask_img1, 1, cv2.INPAINT_NS) \n",
    "\n",
    "cv2.imshow('ns',ns)\n",
    "cv2.waitKey(0)\n",
    "cv2.destroyAllWindows()"
   ]
  },
  {
   "cell_type": "code",
   "execution_count": null,
   "metadata": {},
   "outputs": [],
   "source": []
  }
 ],
 "metadata": {
  "kernelspec": {
   "display_name": "Python 3",
   "language": "python",
   "name": "python3"
  },
  "language_info": {
   "codemirror_mode": {
    "name": "ipython",
    "version": 3
   },
   "file_extension": ".py",
   "mimetype": "text/x-python",
   "name": "python",
   "nbconvert_exporter": "python",
   "pygments_lexer": "ipython3",
   "version": "3.7.4"
  }
 },
 "nbformat": 4,
 "nbformat_minor": 2
}
