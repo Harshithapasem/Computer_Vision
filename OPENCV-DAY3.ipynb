{
 "cells": [
  {
   "cell_type": "code",
   "execution_count": 2,
   "metadata": {},
   "outputs": [],
   "source": [
    "import cv2\n",
    "image=cv2.imread('C:/Users/Harshitha/Desktop/opencv workshop/light.jpg',0)"
   ]
  },
  {
   "cell_type": "code",
   "execution_count": 3,
   "metadata": {},
   "outputs": [],
   "source": [
    "#Blurring an image\n",
    "gaussian=cv2.GaussianBlur(image,(5,5),0)\n",
    "cv2.imshow('gaussian',gaussian)\n",
    "cv2.waitKey(0)\n",
    "cv2.destroyAllWindows()"
   ]
  },
  {
   "cell_type": "markdown",
   "metadata": {},
   "source": [
    "Thresholding\n",
    "Thresholding is the binarization of an image.\n",
    "\n",
    "In general, we seek to convert a grayscale image to a binary image, where the pixels are either 0 or 255.\n",
    "A simple thresholding example would be selecting a pixel value p,\n",
    "and then setting all pixel intensities less than p to zero,\n",
    "and all pixel values greater than p to 255.\n",
    "In this way,we are able to create a binary representation of the image."
   ]
  },
  {
   "cell_type": "code",
   "execution_count": 4,
   "metadata": {},
   "outputs": [],
   "source": [
    "#Thresholding\n",
    "ret,threshold=cv2.threshold(image,127,255,cv2.THRESH_BINARY)\n",
    "cv2.imshow('thrshold',threshold)\n",
    "cv2.waitKey(0)\n",
    "cv2.destroyAllWindows()\n"
   ]
  },
  {
   "cell_type": "code",
   "execution_count": null,
   "metadata": {},
   "outputs": [],
   "source": [
    "#Canny Edge detection\n",
    "edge=cv2.Canny(image,70,120)\n",
    "cv2.imshow('edge',edge)\n",
    "cv2.waitKey(0)\n",
    "cv2.destroyAllWindows()\n"
   ]
  },
  {
   "cell_type": "code",
   "execution_count": 5,
   "metadata": {},
   "outputs": [],
   "source": [
    "#Edge detection with blurring\n",
    "gaussian = cv2.GaussianBlur(image.copy(), (5,5), 0)\n",
    "edge = cv2.Canny(gaussian, 70, 120)\n",
    "cv2.imshow('edge', edge)\n",
    "cv2.waitKey(0)\n",
    "cv2.destroyAllWindows()"
   ]
  },
  {
   "cell_type": "code",
   "execution_count": null,
   "metadata": {},
   "outputs": [],
   "source": [
    "#Contours\n",
    "_,contours, hierarchy = cv2.findContours(edge, cv2.RETR_EXTERNAL, cv2.CHAIN_APPROX_NONE)\n",
    "print('Numbers of contours are : ', len(contours))\n",
    "cv2.drawContours(image, contours, -1, (0, 0, 255), 3)\n",
    "cv2.imshow('image',image)\n",
    "cv2.waitKey(0)\n",
    "cv2.destroyAllWindows()"
   ]
  },
  {
   "cell_type": "code",
   "execution_count": null,
   "metadata": {},
   "outputs": [],
   "source": [
    "\n",
    "\n",
    "cap = cv2.VideoCapture(0)\n",
    "\n",
    "while True:\n",
    "    ret, frame = cap.read() \n",
    "    cv2.imshow('frame',frame)\n",
    "    gray = cv2.cvtColor(frame, cv2.COLOR_BGR2GRAY)\n",
    "    blur = cv2.GaussianBlur(gray , (5,5), 0)     \n",
    "    edge = cv2.Canny(blur, 70, 110)         \n",
    "    ret, thresh = cv2.threshold(edge, 170, 255, cv2.THRESH_BINARY_INV)\n",
    "    cv2.imshow('thresh',thresh)\n",
    "    if cv2.waitKey(33) == 27:\n",
    "        break;\n",
    "cap.release()\n",
    "cv2.destroyAllWindows()\n"
   ]
  },
  {
   "cell_type": "code",
   "execution_count": null,
   "metadata": {},
   "outputs": [],
   "source": []
  }
 ],
 "metadata": {
  "kernelspec": {
   "display_name": "Python 3",
   "language": "python",
   "name": "python3"
  },
  "language_info": {
   "codemirror_mode": {
    "name": "ipython",
    "version": 3
   },
   "file_extension": ".py",
   "mimetype": "text/x-python",
   "name": "python",
   "nbconvert_exporter": "python",
   "pygments_lexer": "ipython3",
   "version": "3.7.4"
  }
 },
 "nbformat": 4,
 "nbformat_minor": 2
}
